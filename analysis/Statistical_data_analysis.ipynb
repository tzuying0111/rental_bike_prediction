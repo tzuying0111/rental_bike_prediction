{
 "cells": [
  {
   "cell_type": "markdown",
   "metadata": {},
   "source": [
    "* Are there variables that are particularly significant in terms of explaining the answer to your project question?\n",
    "* Are there significant differences between subgroups in your data that may be relevant to your project aim?\n",
    "* Are there strong correlations between pairs of independent variables or between an independent and a dependent variable?\n",
    "* What are the most appropriate tests to use to analyze these relationships?"
   ]
  },
  {
   "cell_type": "code",
   "execution_count": 1,
   "metadata": {},
   "outputs": [],
   "source": [
    "from scipy.stats import norm\n",
    "from scipy.stats import t\n",
    "import numpy as np\n",
    "import pandas as pd\n",
    "from numpy.random import seed\n",
    "import matplotlib.pyplot as plt"
   ]
  },
  {
   "cell_type": "code",
   "execution_count": 2,
   "metadata": {},
   "outputs": [],
   "source": [
    "df = pd.read_pickle('../data/SeoulBikeData.pkl')"
   ]
  },
  {
   "cell_type": "code",
   "execution_count": 8,
   "metadata": {},
   "outputs": [
    {
     "data": {
      "text/plain": [
       "(8760, 14)"
      ]
     },
     "execution_count": 8,
     "metadata": {},
     "output_type": "execute_result"
    }
   ],
   "source": [
    "df.shape"
   ]
  },
  {
   "cell_type": "code",
   "execution_count": 3,
   "metadata": {},
   "outputs": [
    {
     "data": {
      "text/plain": [
       "Index(['Date', 'Rented Bike Count', 'Hour', 'Temperature', 'Humidity',\n",
       "       'Wind speed', 'Visibility', 'Dew point temperature', 'Solar Radiation',\n",
       "       'Rainfall', 'Snowfall', 'Seasons', 'Holiday', 'Functioning Day'],\n",
       "      dtype='object')"
      ]
     },
     "execution_count": 3,
     "metadata": {},
     "output_type": "execute_result"
    }
   ],
   "source": [
    "df.columns"
   ]
  },
  {
   "cell_type": "markdown",
   "metadata": {},
   "source": [
    "First, we want to know if the average is "
   ]
  },
  {
   "cell_type": "code",
   "execution_count": 6,
   "metadata": {},
   "outputs": [
    {
     "data": {
      "image/png": "[encoded data removed]",
      "text/plain": [
       "<Figure size 432x288 with 1 Axes>"
      ]
     },
     "metadata": {
      "needs_background": "light"
     },
     "output_type": "display_data"
    }
   ],
   "source": [
    "_ = plt.hist(df['Rented Bike Count'], bins=30)\n",
    "_ = plt.xlabel('charge ($)')\n",
    "_ = plt.ylabel('Rented Bike COunt')\n",
    "_ = plt.title('Distribution of bike count')"
   ]
  },
  {
   "cell_type": "code",
   "execution_count": 7,
   "metadata": {},
   "outputs": [
    {
     "name": "stdout",
     "output_type": "stream",
     "text": [
      "mean: 704.6020547945205\n",
      "stardard deviation: 644.9974677392172\n"
     ]
    }
   ],
   "source": [
    "mean = np.mean(df['Rented Bike Count'])\n",
    "std = np.std(df['Rented Bike Count'], ddof=1)\n",
    "print('mean:', mean)\n",
    "print('stardard deviation:', std)"
   ]
  },
  {
   "cell_type": "code",
   "execution_count": 9,
   "metadata": {},
   "outputs": [
    {
     "name": "stdout",
     "output_type": "stream",
     "text": [
      "critical value:1.960234859469091\n"
     ]
    }
   ],
   "source": [
    "cv = t.ppf(0.975, 8760-1)\n",
    "print(f'critical value:{cv}')"
   ]
  },
  {
   "cell_type": "code",
   "execution_count": 11,
   "metadata": {},
   "outputs": [
    {
     "data": {
      "text/plain": [
       "13.508715789478046"
      ]
     },
     "execution_count": 11,
     "metadata": {},
     "output_type": "execute_result"
    }
   ],
   "source": [
    "margin_of_error = cv * std/np.sqrt(len(df))\n",
    "margin_of_error"
   ]
  },
  {
   "cell_type": "code",
   "execution_count": 12,
   "metadata": {
    "scrolled": true
   },
   "outputs": [
    {
     "data": {
      "text/plain": [
       "(691.0933390050425, 718.1107705839986)"
      ]
     },
     "execution_count": 12,
     "metadata": {},
     "output_type": "execute_result"
    }
   ],
   "source": [
    "(mean - margin_of_error, mean + margin_of_error) # we are 95% confidence that our mean is fallen within 691 and 718b"
   ]
  },
  {
   "cell_type": "code",
   "execution_count": 16,
   "metadata": {},
   "outputs": [
    {
     "data": {
      "text/plain": [
       "array(['No Holiday', 'Holiday'], dtype=object)"
      ]
     },
     "execution_count": 16,
     "metadata": {},
     "output_type": "execute_result"
    }
   ],
   "source": [
    "df['Holiday'].unique()"
   ]
  },
  {
   "cell_type": "code",
   "execution_count": 15,
   "metadata": {},
   "outputs": [],
   "source": [
    "# we want to know if holiday impact rental activities\n",
    "# H0 (Null hypothesis): Mu of holiday = Mu of non-holiday\n",
    "# H1 (alternative hypothesis): Mu of holiday != Mu of non-holiday"
   ]
  },
  {
   "cell_type": "code",
   "execution_count": 30,
   "metadata": {},
   "outputs": [],
   "source": [
    "hol = df[df['Holiday'] =='Holiday']['Rented Bike Count']\n",
    "non_hol = df[df['Holiday'] != 'Holiday']['Rented Bike Count']\n",
    "hol_mu = np.mean(hol)\n",
    "non_hol_mu = np.mean(non_hol)\n",
    "n_hol = len(hol)\n",
    "n_non_hol = len(non_hol)\n",
    "std_hol = np.std(hol, ddof=1)\n",
    "std_non_hol = np.std(non_hol, ddof=1)\n"
   ]
  },
  {
   "cell_type": "code",
   "execution_count": 35,
   "metadata": {},
   "outputs": [
    {
     "data": {
      "text/plain": [
       "-7.597329134044756"
      ]
     },
     "execution_count": 35,
     "metadata": {},
     "output_type": "execute_result"
    }
   ],
   "source": [
    "t = (hol_mu - non_hol_mu) / (np.sqrt((std_hol**2 / n_hol) + (std_non_hol**2 / n_non_hol)))\n",
    "t"
   ]
  },
  {
   "cell_type": "code",
   "execution_count": 36,
   "metadata": {},
   "outputs": [],
   "source": [
    "# since the t-value is very small-- we rejected the null hypothesis. The rental activitis are different in holiday and non-holiday"
   ]
  }
 ],
 "metadata": {
  "kernelspec": {
   "display_name": "Python 3",
   "language": "python",
   "name": "python3"
  },
  "language_info": {
   "codemirror_mode": {
    "name": "ipython",
    "version": 3
   },
   "file_extension": ".py",
   "mimetype": "text/x-python",
   "name": "python",
   "nbconvert_exporter": "python",
   "pygments_lexer": "ipython3",
   "version": "3.6.9"
  }
 },
 "nbformat": 4,
 "nbformat_minor": 2
}
